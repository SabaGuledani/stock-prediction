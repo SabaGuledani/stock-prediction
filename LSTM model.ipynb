{
 "cells": [
  {
   "cell_type": "code",
   "execution_count": 1,
   "id": "502f75f8",
   "metadata": {},
   "outputs": [],
   "source": [
    "import numpy as np\n",
    "import matplotlib.pyplot as plt\n",
    "import pandas as pd\n",
    "import pandas_datareader as web\n",
    "import datetime as dt\n",
    "import yfinance as yf\n",
    "\n",
    "from sklearn.preprocessing import MinMaxScaler\n",
    "from tensorflow.keras.models import Sequential\n",
    "from tensorflow.keras.layers import Dense, Dropout, LSTM"
   ]
  },
  {
   "cell_type": "code",
   "execution_count": 2,
   "id": "9b3ef9d0",
   "metadata": {},
   "outputs": [
    {
     "name": "stdout",
     "output_type": "stream",
     "text": [
      "Num GPUs Available:  1\n"
     ]
    }
   ],
   "source": [
    "import tensorflow as tf\n",
    "print(\"Num GPUs Available: \", len(tf.config.list_physical_devices('GPU')))"
   ]
  },
  {
   "cell_type": "markdown",
   "id": "aa892e4c",
   "metadata": {},
   "source": [
    "## load data"
   ]
  },
  {
   "cell_type": "code",
   "execution_count": 4,
   "id": "30b99c3b",
   "metadata": {},
   "outputs": [],
   "source": [
    "company = 'AAPL'\n",
    "company2 = 'GOOG'\n",
    "\n",
    "yf.pdr_override()\n",
    "start = dt.datetime(2000,1,1)\n",
    "end = dt.datetime(2020,1,1)"
   ]
  },
  {
   "cell_type": "code",
   "execution_count": 6,
   "id": "47da67b5",
   "metadata": {},
   "outputs": [
    {
     "name": "stderr",
     "output_type": "stream",
     "text": [
      "[*********************100%%**********************]  1 of 1 completed\n",
      "[*********************100%%**********************]  1 of 1 completed\n"
     ]
    }
   ],
   "source": [
    "data = yf.download(company,start,end)\n",
    "data.to_csv(f\"{company}_data.csv\")\n",
    "data2 = yf.download(company2,start,end)\n",
    "data2.to_csv(f\"{company2}_data.csv\")"
   ]
  },
  {
   "cell_type": "code",
   "execution_count": 5,
   "id": "5ee1c86b",
   "metadata": {},
   "outputs": [],
   "source": [
    "data = pd.read_csv(f\"{company}_data.csv\")\n",
    "data2 = pd.read_csv(f\"{company2}_data.csv\")"
   ]
  },
  {
   "cell_type": "code",
   "execution_count": 7,
   "id": "462b329f",
   "metadata": {},
   "outputs": [
    {
     "data": {
      "text/html": [
       "<div>\n",
       "<style scoped>\n",
       "    .dataframe tbody tr th:only-of-type {\n",
       "        vertical-align: middle;\n",
       "    }\n",
       "\n",
       "    .dataframe tbody tr th {\n",
       "        vertical-align: top;\n",
       "    }\n",
       "\n",
       "    .dataframe thead th {\n",
       "        text-align: right;\n",
       "    }\n",
       "</style>\n",
       "<table border=\"1\" class=\"dataframe\">\n",
       "  <thead>\n",
       "    <tr style=\"text-align: right;\">\n",
       "      <th></th>\n",
       "      <th>Date</th>\n",
       "      <th>Open</th>\n",
       "      <th>High</th>\n",
       "      <th>Low</th>\n",
       "      <th>Close</th>\n",
       "      <th>Adj Close</th>\n",
       "      <th>Volume</th>\n",
       "    </tr>\n",
       "  </thead>\n",
       "  <tbody>\n",
       "    <tr>\n",
       "      <th>0</th>\n",
       "      <td>2004-08-19</td>\n",
       "      <td>2.490664</td>\n",
       "      <td>2.591785</td>\n",
       "      <td>2.390042</td>\n",
       "      <td>2.499133</td>\n",
       "      <td>2.499133</td>\n",
       "      <td>897427216</td>\n",
       "    </tr>\n",
       "    <tr>\n",
       "      <th>1</th>\n",
       "      <td>2004-08-20</td>\n",
       "      <td>2.515820</td>\n",
       "      <td>2.716817</td>\n",
       "      <td>2.503118</td>\n",
       "      <td>2.697639</td>\n",
       "      <td>2.697639</td>\n",
       "      <td>458857488</td>\n",
       "    </tr>\n",
       "    <tr>\n",
       "      <th>2</th>\n",
       "      <td>2004-08-23</td>\n",
       "      <td>2.758411</td>\n",
       "      <td>2.826406</td>\n",
       "      <td>2.716070</td>\n",
       "      <td>2.724787</td>\n",
       "      <td>2.724787</td>\n",
       "      <td>366857939</td>\n",
       "    </tr>\n",
       "    <tr>\n",
       "      <th>3</th>\n",
       "      <td>2004-08-24</td>\n",
       "      <td>2.770615</td>\n",
       "      <td>2.779581</td>\n",
       "      <td>2.579581</td>\n",
       "      <td>2.611960</td>\n",
       "      <td>2.611960</td>\n",
       "      <td>306396159</td>\n",
       "    </tr>\n",
       "    <tr>\n",
       "      <th>4</th>\n",
       "      <td>2004-08-25</td>\n",
       "      <td>2.614201</td>\n",
       "      <td>2.689918</td>\n",
       "      <td>2.587302</td>\n",
       "      <td>2.640104</td>\n",
       "      <td>2.640104</td>\n",
       "      <td>184645512</td>\n",
       "    </tr>\n",
       "    <tr>\n",
       "      <th>...</th>\n",
       "      <td>...</td>\n",
       "      <td>...</td>\n",
       "      <td>...</td>\n",
       "      <td>...</td>\n",
       "      <td>...</td>\n",
       "      <td>...</td>\n",
       "      <td>...</td>\n",
       "    </tr>\n",
       "    <tr>\n",
       "      <th>3864</th>\n",
       "      <td>2019-12-24</td>\n",
       "      <td>67.425003</td>\n",
       "      <td>67.513000</td>\n",
       "      <td>67.139000</td>\n",
       "      <td>67.178001</td>\n",
       "      <td>67.178001</td>\n",
       "      <td>6950000</td>\n",
       "    </tr>\n",
       "    <tr>\n",
       "      <th>3865</th>\n",
       "      <td>2019-12-26</td>\n",
       "      <td>67.308502</td>\n",
       "      <td>68.066353</td>\n",
       "      <td>67.223503</td>\n",
       "      <td>68.019997</td>\n",
       "      <td>68.019997</td>\n",
       "      <td>13350000</td>\n",
       "    </tr>\n",
       "    <tr>\n",
       "      <th>3866</th>\n",
       "      <td>2019-12-27</td>\n",
       "      <td>68.149498</td>\n",
       "      <td>68.226501</td>\n",
       "      <td>67.465500</td>\n",
       "      <td>67.594498</td>\n",
       "      <td>67.594498</td>\n",
       "      <td>20768000</td>\n",
       "    </tr>\n",
       "    <tr>\n",
       "      <th>3867</th>\n",
       "      <td>2019-12-30</td>\n",
       "      <td>67.500000</td>\n",
       "      <td>67.650002</td>\n",
       "      <td>66.700996</td>\n",
       "      <td>66.806999</td>\n",
       "      <td>66.806999</td>\n",
       "      <td>21018000</td>\n",
       "    </tr>\n",
       "    <tr>\n",
       "      <th>3868</th>\n",
       "      <td>2019-12-31</td>\n",
       "      <td>66.505501</td>\n",
       "      <td>66.900002</td>\n",
       "      <td>66.454247</td>\n",
       "      <td>66.850998</td>\n",
       "      <td>66.850998</td>\n",
       "      <td>19236000</td>\n",
       "    </tr>\n",
       "  </tbody>\n",
       "</table>\n",
       "<p>3869 rows × 7 columns</p>\n",
       "</div>"
      ],
      "text/plain": [
       "            Date       Open       High        Low      Close  Adj Close  \\\n",
       "0     2004-08-19   2.490664   2.591785   2.390042   2.499133   2.499133   \n",
       "1     2004-08-20   2.515820   2.716817   2.503118   2.697639   2.697639   \n",
       "2     2004-08-23   2.758411   2.826406   2.716070   2.724787   2.724787   \n",
       "3     2004-08-24   2.770615   2.779581   2.579581   2.611960   2.611960   \n",
       "4     2004-08-25   2.614201   2.689918   2.587302   2.640104   2.640104   \n",
       "...          ...        ...        ...        ...        ...        ...   \n",
       "3864  2019-12-24  67.425003  67.513000  67.139000  67.178001  67.178001   \n",
       "3865  2019-12-26  67.308502  68.066353  67.223503  68.019997  68.019997   \n",
       "3866  2019-12-27  68.149498  68.226501  67.465500  67.594498  67.594498   \n",
       "3867  2019-12-30  67.500000  67.650002  66.700996  66.806999  66.806999   \n",
       "3868  2019-12-31  66.505501  66.900002  66.454247  66.850998  66.850998   \n",
       "\n",
       "         Volume  \n",
       "0     897427216  \n",
       "1     458857488  \n",
       "2     366857939  \n",
       "3     306396159  \n",
       "4     184645512  \n",
       "...         ...  \n",
       "3864    6950000  \n",
       "3865   13350000  \n",
       "3866   20768000  \n",
       "3867   21018000  \n",
       "3868   19236000  \n",
       "\n",
       "[3869 rows x 7 columns]"
      ]
     },
     "execution_count": 7,
     "metadata": {},
     "output_type": "execute_result"
    }
   ],
   "source": [
    "data2"
   ]
  },
  {
   "cell_type": "code",
   "execution_count": 7,
   "id": "d497271a",
   "metadata": {},
   "outputs": [
    {
     "ename": "NameError",
     "evalue": "name 'x_train' is not defined",
     "output_type": "error",
     "traceback": [
      "\u001b[1;31m---------------------------------------------------------------------------\u001b[0m",
      "\u001b[1;31mNameError\u001b[0m                                 Traceback (most recent call last)",
      "Cell \u001b[1;32mIn[7], line 3\u001b[0m\n\u001b[0;32m      1\u001b[0m model \u001b[38;5;241m=\u001b[39m Sequential()\n\u001b[1;32m----> 3\u001b[0m model\u001b[38;5;241m.\u001b[39madd(LSTM(units\u001b[38;5;241m=\u001b[39m\u001b[38;5;241m128\u001b[39m, stateful\u001b[38;5;241m=\u001b[39m\u001b[38;5;28;01mTrue\u001b[39;00m, return_sequences\u001b[38;5;241m=\u001b[39m\u001b[38;5;28;01mTrue\u001b[39;00m, input_shape\u001b[38;5;241m=\u001b[39m(\u001b[43mx_train\u001b[49m\u001b[38;5;241m.\u001b[39mshape[\u001b[38;5;241m1\u001b[39m],\u001b[38;5;241m1\u001b[39m)))\n\u001b[0;32m      4\u001b[0m model\u001b[38;5;241m.\u001b[39madd(Dropout(\u001b[38;5;241m0.2\u001b[39m))\n\u001b[0;32m      5\u001b[0m model\u001b[38;5;241m.\u001b[39madd(LSTM(units\u001b[38;5;241m=\u001b[39m\u001b[38;5;241m64\u001b[39m,return_sequences\u001b[38;5;241m=\u001b[39m\u001b[38;5;28;01mTrue\u001b[39;00m))\n",
      "\u001b[1;31mNameError\u001b[0m: name 'x_train' is not defined"
     ]
    }
   ],
   "source": [
    "\n"
   ]
  },
  {
   "cell_type": "markdown",
   "id": "6b52562e",
   "metadata": {},
   "source": [
    "## data preprocessing"
   ]
  },
  {
   "cell_type": "code",
   "execution_count": 7,
   "id": "104cec99",
   "metadata": {},
   "outputs": [],
   "source": []
  },
  {
   "cell_type": "code",
   "execution_count": 8,
   "id": "1bc2dcc1",
   "metadata": {},
   "outputs": [],
   "source": [
    "prediction_days = 80\n",
    "\n",
    "x_train = []\n",
    "y_train = []\n",
    "\n",
    "scaler = MinMaxScaler(feature_range=(0,1))\n",
    "\n",
    "    \n",
    "scaled_data = scaler.fit_transform(data[\"Close\"].values.reshape(-1,1))\n",
    "\n",
    "for x in range(prediction_days,len(scaled_data)):\n",
    "    x_train.append(scaled_data[x-prediction_days:x,0])\n",
    "    y_train.append(scaled_data[x,0])\n",
    "\n",
    "x_train, y_train = np.array(x_train), np.array(y_train)\n",
    "x_train = np.reshape(x_train,(x_train.shape[0],x_train.shape[1],1))\n",
    "\n"
   ]
  },
  {
   "cell_type": "code",
   "execution_count": 17,
   "id": "a265a8e5",
   "metadata": {},
   "outputs": [
    {
     "data": {
      "text/plain": [
       "(4951, 80, 1)"
      ]
     },
     "execution_count": 17,
     "metadata": {},
     "output_type": "execute_result"
    }
   ],
   "source": [
    "x_train.shape\n"
   ]
  },
  {
   "cell_type": "code",
   "execution_count": 13,
   "id": "f359e847",
   "metadata": {
    "collapsed": true
   },
   "outputs": [
    {
     "name": "stdout",
     "output_type": "stream",
     "text": [
      "Epoch 1/15\n",
      "104/104 [==============================] - 5s 22ms/step - loss: 0.0037\n",
      "Epoch 2/15\n",
      "104/104 [==============================] - 2s 19ms/step - loss: 9.0909e-04\n",
      "Epoch 3/15\n",
      "104/104 [==============================] - 2s 19ms/step - loss: 8.6246e-04\n",
      "Epoch 4/15\n",
      "104/104 [==============================] - 2s 19ms/step - loss: 7.0470e-04\n",
      "Epoch 5/15\n",
      "104/104 [==============================] - 2s 19ms/step - loss: 7.5567e-04\n",
      "Epoch 6/15\n",
      "104/104 [==============================] - 2s 19ms/step - loss: 6.6153e-04\n",
      "Epoch 7/15\n",
      "104/104 [==============================] - 2s 19ms/step - loss: 6.3925e-04\n",
      "Epoch 8/15\n",
      "104/104 [==============================] - 2s 19ms/step - loss: 7.1111e-04\n",
      "Epoch 9/15\n",
      "104/104 [==============================] - 2s 19ms/step - loss: 6.1021e-04\n",
      "Epoch 10/15\n",
      "104/104 [==============================] - 2s 19ms/step - loss: 6.5006e-04\n",
      "Epoch 11/15\n",
      "104/104 [==============================] - 2s 19ms/step - loss: 5.2461e-04\n",
      "Epoch 12/15\n",
      "104/104 [==============================] - 2s 19ms/step - loss: 5.2736e-04\n",
      "Epoch 13/15\n",
      "104/104 [==============================] - 2s 19ms/step - loss: 5.3663e-04\n",
      "Epoch 14/15\n",
      "104/104 [==============================] - 2s 19ms/step - loss: 5.6542e-04\n",
      "Epoch 15/15\n",
      "104/104 [==============================] - 2s 19ms/step - loss: 4.9058e-04\n"
     ]
    },
    {
     "data": {
      "text/plain": [
       "<keras.callbacks.History at 0x20e4f146df0>"
      ]
     },
     "execution_count": 13,
     "metadata": {},
     "output_type": "execute_result"
    }
   ],
   "source": [
    "model = Sequential()\n",
    "\n",
    "model.add(LSTM(units=128, return_sequences=True, input_shape=(x_train.shape[1],1)))\n",
    "model.add(Dropout(0.2))\n",
    "model.add(LSTM(units=64,return_sequences=True))\n",
    "model.add(Dropout(0.2))\n",
    "model.add(LSTM(units=64))\n",
    "model.add(Dropout(0.2))\n",
    "model.add(Dense(units=1))\n",
    "\n",
    "model.compile(optimizer=\"adam\",loss='mean_squared_error')\n",
    "\n",
    "model.fit(x_train,y_train,epochs=15, batch_size=48)\n"
   ]
  },
  {
   "cell_type": "markdown",
   "id": "ee0f7c96",
   "metadata": {},
   "source": [
    "## model accuracy test"
   ]
  },
  {
   "cell_type": "code",
   "execution_count": 18,
   "id": "c0dc3370",
   "metadata": {},
   "outputs": [
    {
     "name": "stderr",
     "output_type": "stream",
     "text": [
      "[*********************100%%**********************]  1 of 1 completed\n"
     ]
    }
   ],
   "source": [
    "test_start = dt.datetime(2015,1,1)\n",
    "test_end = dt.datetime.now()\n",
    "company = \"TSLA\"\n",
    "test_data = yf.download(company,test_start,test_end)"
   ]
  },
  {
   "cell_type": "code",
   "execution_count": 19,
   "id": "a0fac154",
   "metadata": {},
   "outputs": [],
   "source": [
    "actual_prices = test_data[\"Close\"].values\n",
    "\n",
    "total_dataset = pd.concat([data[\"Close\"],test_data['Close']],ignore_index=True)\n",
    "\n",
    "\n",
    "model_inputs = total_dataset[len(total_dataset) - len(test_data)-prediction_days:].values\n",
    "\n",
    "\n",
    "model_inputs = model_inputs.reshape(-1,1)\n",
    "model_inputs = scaler.transform(model_inputs)"
   ]
  },
  {
   "cell_type": "markdown",
   "id": "989b8fec",
   "metadata": {},
   "source": [
    "## predictions"
   ]
  },
  {
   "cell_type": "code",
   "execution_count": 23,
   "id": "9ecfddd2",
   "metadata": {},
   "outputs": [
    {
     "name": "stdout",
     "output_type": "stream",
     "text": [
      "(2287, 80, 1)\n"
     ]
    }
   ],
   "source": [
    "x_test = []\n",
    "\n",
    "for x in range(prediction_days,len(model_inputs)):\n",
    "    x_test.append(model_inputs[x-prediction_days:x, 0])\n",
    "\n",
    "x_test = np.array(x_test)\n",
    "x_test = np.reshape(x_test,(x_test.shape[0],x_test.shape[1],1))\n",
    "\n",
    "print(x_test.shape)\n",
    "predicted_prices = model.predict(x_test)\n",
    "predicted_prices = scaler.inverse_transform(predicted_prices)\n"
   ]
  },
  {
   "cell_type": "code",
   "execution_count": 25,
   "id": "6243669e",
   "metadata": {},
   "outputs": [
    {
     "data": {
      "text/plain": [
       "array([[ 71.118225],\n",
       "       [ 69.10116 ],\n",
       "       [ 64.55931 ],\n",
       "       ...,\n",
       "       [175.55685 ],\n",
       "       [173.77927 ],\n",
       "       [172.3118  ]], dtype=float32)"
      ]
     },
     "execution_count": 25,
     "metadata": {},
     "output_type": "execute_result"
    }
   ],
   "source": []
  },
  {
   "cell_type": "code",
   "execution_count": 24,
   "id": "248bacaf",
   "metadata": {},
   "outputs": [
    {
     "data": {
      "image/png": "[encoded data removed]",
      "text/plain": [
       "<Figure size 640x480 with 1 Axes>"
      ]
     },
     "metadata": {},
     "output_type": "display_data"
    }
   ],
   "source": [
    "plt.plot(actual_prices,color=\"black\", label=f\"actual {company} price\")\n",
    "plt.plot(predicted_prices, color=\"green\", label= f\"predicted {company} price\")\n",
    "plt.title(\"share price\")\n",
    "plt.xlabel('Time')\n",
    "plt.ylabel(f'{company} share price')\n",
    "plt.legend()\n",
    "plt.show()"
   ]
  },
  {
   "cell_type": "markdown",
   "id": "77a6e428",
   "metadata": {},
   "source": [
    "## predict next day\n"
   ]
  },
  {
   "cell_type": "code",
   "execution_count": 26,
   "id": "686d5633",
   "metadata": {},
   "outputs": [],
   "source": [
    "real_data = [model_inputs[len(model_inputs) - prediction_days:len(model_inputs+1),0]]\n",
    "real_data = np.array(real_data)\n",
    "real_data = np.reshape(real_data,(real_data.shape[0],real_data.shape[1],1))"
   ]
  },
  {
   "cell_type": "code",
   "execution_count": 27,
   "id": "a842a397",
   "metadata": {},
   "outputs": [
    {
     "data": {
      "text/plain": [
       "array([[187.91000366]])"
      ]
     },
     "execution_count": 27,
     "metadata": {},
     "output_type": "execute_result"
    }
   ],
   "source": [
    "scaler.inverse_transform(model_inputs[-1].reshape(-1,1))"
   ]
  },
  {
   "cell_type": "code",
   "execution_count": 28,
   "id": "34d73e41",
   "metadata": {},
   "outputs": [
    {
     "name": "stdout",
     "output_type": "stream",
     "text": [
      "prediction: [[171.14682]]\n"
     ]
    }
   ],
   "source": [
    "prediction = model.predict(real_data[:len(real_data-1)])\n",
    "prediction = scaler.inverse_transform(prediction)\n",
    "print(f'prediction: {prediction}')"
   ]
  },
  {
   "cell_type": "code",
   "execution_count": 29,
   "id": "84c92e44",
   "metadata": {},
   "outputs": [
    {
     "data": {
      "text/plain": [
       "array([[ 71.118225],\n",
       "       [ 69.10116 ],\n",
       "       [ 64.55931 ],\n",
       "       ...,\n",
       "       [175.55685 ],\n",
       "       [173.77927 ],\n",
       "       [172.3118  ]], dtype=float32)"
      ]
     },
     "execution_count": 29,
     "metadata": {},
     "output_type": "execute_result"
    }
   ],
   "source": [
    "actual_prices\n",
    "predicted_prices"
   ]
  },
  {
   "cell_type": "code",
   "execution_count": 30,
   "id": "6e5c1c8d",
   "metadata": {},
   "outputs": [],
   "source": [
    "df = pd.DataFrame(data={\"actual\": actual_prices.reshape(-1),\"predicted\":predicted_prices.reshape(-1)} )"
   ]
  },
  {
   "cell_type": "code",
   "execution_count": 31,
   "id": "b239069f",
   "metadata": {},
   "outputs": [],
   "source": [
    "df['diff'] = df[\"actual\"] - df[\"predicted\"]"
   ]
  },
  {
   "cell_type": "code",
   "execution_count": 32,
   "id": "9f8d125d",
   "metadata": {},
   "outputs": [],
   "source": [
    "df['actual_comparison'] = ''\n",
    "\n",
    "# Iterate over rows and compare with the previous row\n",
    "for i in range(1, len(df)):\n",
    "    if df['actual'].iloc[i] > df['actual'].iloc[i - 1]:\n",
    "        df.at[i, 'actual_comparison'] = 'Higher'\n",
    "    elif df['actual'].iloc[i] < df['actual'].iloc[i - 1]:\n",
    "        df.at[i, 'actual_comparison'] = 'Lower'"
   ]
  },
  {
   "cell_type": "code",
   "execution_count": 33,
   "id": "6e2bb30e",
   "metadata": {},
   "outputs": [],
   "source": [
    "df['predicted_comparison'] = ''\n",
    "\n",
    "# Iterate over rows and compare with the previous row\n",
    "for i in range(1, len(df)):\n",
    "    if df['predicted'].iloc[i] > df['predicted'].iloc[i - 1]:\n",
    "        df.at[i, 'predicted_comparison'] = 'Higher'\n",
    "    elif df['predicted'].iloc[i] < df['predicted'].iloc[i - 1]:\n",
    "        df.at[i, 'predicted_comparison'] = 'Lower'"
   ]
  },
  {
   "cell_type": "code",
   "execution_count": 34,
   "id": "4fa714c5",
   "metadata": {},
   "outputs": [],
   "source": [
    "df[\"accurate\"] = df[\"actual_comparison\"] == df[\"predicted_comparison\"]"
   ]
  },
  {
   "cell_type": "code",
   "execution_count": 35,
   "id": "90b42a64",
   "metadata": {},
   "outputs": [
    {
     "data": {
      "text/html": [
       "<div>\n",
       "<style scoped>\n",
       "    .dataframe tbody tr th:only-of-type {\n",
       "        vertical-align: middle;\n",
       "    }\n",
       "\n",
       "    .dataframe tbody tr th {\n",
       "        vertical-align: top;\n",
       "    }\n",
       "\n",
       "    .dataframe thead th {\n",
       "        text-align: right;\n",
       "    }\n",
       "</style>\n",
       "<table border=\"1\" class=\"dataframe\">\n",
       "  <thead>\n",
       "    <tr style=\"text-align: right;\">\n",
       "      <th></th>\n",
       "      <th>actual</th>\n",
       "      <th>predicted</th>\n",
       "      <th>diff</th>\n",
       "      <th>actual_comparison</th>\n",
       "      <th>predicted_comparison</th>\n",
       "    </tr>\n",
       "    <tr>\n",
       "      <th>accurate</th>\n",
       "      <th></th>\n",
       "      <th></th>\n",
       "      <th></th>\n",
       "      <th></th>\n",
       "      <th></th>\n",
       "    </tr>\n",
       "  </thead>\n",
       "  <tbody>\n",
       "    <tr>\n",
       "      <th>False</th>\n",
       "      <td>1089</td>\n",
       "      <td>1089</td>\n",
       "      <td>1089</td>\n",
       "      <td>1089</td>\n",
       "      <td>1089</td>\n",
       "    </tr>\n",
       "    <tr>\n",
       "      <th>True</th>\n",
       "      <td>1198</td>\n",
       "      <td>1198</td>\n",
       "      <td>1198</td>\n",
       "      <td>1198</td>\n",
       "      <td>1198</td>\n",
       "    </tr>\n",
       "  </tbody>\n",
       "</table>\n",
       "</div>"
      ],
      "text/plain": [
       "          actual  predicted  diff  actual_comparison  predicted_comparison\n",
       "accurate                                                                  \n",
       "False       1089       1089  1089               1089                  1089\n",
       "True        1198       1198  1198               1198                  1198"
      ]
     },
     "execution_count": 35,
     "metadata": {},
     "output_type": "execute_result"
    }
   ],
   "source": [
    "df.groupby(\"accurate\").count()"
   ]
  },
  {
   "cell_type": "code",
   "execution_count": 7,
   "id": "372992d9",
   "metadata": {},
   "outputs": [
    {
     "name": "stderr",
     "output_type": "stream",
     "text": [
      "[*********************100%%**********************]  1 of 1 completed\n",
      "[*********************100%%**********************]  1 of 1 completed\n"
     ]
    }
   ],
   "source": []
  },
  {
   "cell_type": "code",
   "execution_count": 8,
   "id": "b9766f40",
   "metadata": {},
   "outputs": [
    {
     "data": {
      "text/html": [
       "<div>\n",
       "<style scoped>\n",
       "    .dataframe tbody tr th:only-of-type {\n",
       "        vertical-align: middle;\n",
       "    }\n",
       "\n",
       "    .dataframe tbody tr th {\n",
       "        vertical-align: top;\n",
       "    }\n",
       "\n",
       "    .dataframe thead th {\n",
       "        text-align: right;\n",
       "    }\n",
       "</style>\n",
       "<table border=\"1\" class=\"dataframe\">\n",
       "  <thead>\n",
       "    <tr style=\"text-align: right;\">\n",
       "      <th></th>\n",
       "      <th>Open_AAPL</th>\n",
       "      <th>High_AAPL</th>\n",
       "      <th>Low_AAPL</th>\n",
       "      <th>Close_AAPL</th>\n",
       "      <th>Adj Close_AAPL</th>\n",
       "      <th>Volume_AAPL</th>\n",
       "      <th>Open_BA</th>\n",
       "      <th>High_BA</th>\n",
       "      <th>Low_BA</th>\n",
       "      <th>Close_BA</th>\n",
       "      <th>Adj Close_BA</th>\n",
       "      <th>Volume_BA</th>\n",
       "      <th>Company</th>\n",
       "    </tr>\n",
       "    <tr>\n",
       "      <th>Date</th>\n",
       "      <th></th>\n",
       "      <th></th>\n",
       "      <th></th>\n",
       "      <th></th>\n",
       "      <th></th>\n",
       "      <th></th>\n",
       "      <th></th>\n",
       "      <th></th>\n",
       "      <th></th>\n",
       "      <th></th>\n",
       "      <th></th>\n",
       "      <th></th>\n",
       "      <th></th>\n",
       "    </tr>\n",
       "  </thead>\n",
       "  <tbody>\n",
       "    <tr>\n",
       "      <th>2015-01-02</th>\n",
       "      <td>27.847500</td>\n",
       "      <td>27.860001</td>\n",
       "      <td>26.837500</td>\n",
       "      <td>27.332500</td>\n",
       "      <td>24.466448</td>\n",
       "      <td>212818400</td>\n",
       "      <td>14.858000</td>\n",
       "      <td>14.883333</td>\n",
       "      <td>14.217333</td>\n",
       "      <td>14.620667</td>\n",
       "      <td>14.620667</td>\n",
       "      <td>71466000</td>\n",
       "      <td>Apple</td>\n",
       "    </tr>\n",
       "    <tr>\n",
       "      <th>2015-01-05</th>\n",
       "      <td>27.072500</td>\n",
       "      <td>27.162500</td>\n",
       "      <td>26.352501</td>\n",
       "      <td>26.562500</td>\n",
       "      <td>23.777191</td>\n",
       "      <td>257142000</td>\n",
       "      <td>14.303333</td>\n",
       "      <td>14.433333</td>\n",
       "      <td>13.810667</td>\n",
       "      <td>14.006000</td>\n",
       "      <td>14.006000</td>\n",
       "      <td>80527500</td>\n",
       "      <td>Apple</td>\n",
       "    </tr>\n",
       "    <tr>\n",
       "      <th>2015-01-06</th>\n",
       "      <td>26.635000</td>\n",
       "      <td>26.857500</td>\n",
       "      <td>26.157499</td>\n",
       "      <td>26.565001</td>\n",
       "      <td>23.779427</td>\n",
       "      <td>263188400</td>\n",
       "      <td>14.004000</td>\n",
       "      <td>14.280000</td>\n",
       "      <td>13.614000</td>\n",
       "      <td>14.085333</td>\n",
       "      <td>14.085333</td>\n",
       "      <td>93928500</td>\n",
       "      <td>Apple</td>\n",
       "    </tr>\n",
       "    <tr>\n",
       "      <th>2015-01-07</th>\n",
       "      <td>26.799999</td>\n",
       "      <td>27.049999</td>\n",
       "      <td>26.674999</td>\n",
       "      <td>26.937500</td>\n",
       "      <td>24.112869</td>\n",
       "      <td>160423600</td>\n",
       "      <td>14.223333</td>\n",
       "      <td>14.318667</td>\n",
       "      <td>13.985333</td>\n",
       "      <td>14.063333</td>\n",
       "      <td>14.063333</td>\n",
       "      <td>44526000</td>\n",
       "      <td>Apple</td>\n",
       "    </tr>\n",
       "    <tr>\n",
       "      <th>2015-01-08</th>\n",
       "      <td>27.307501</td>\n",
       "      <td>28.037500</td>\n",
       "      <td>27.174999</td>\n",
       "      <td>27.972500</td>\n",
       "      <td>25.039337</td>\n",
       "      <td>237458000</td>\n",
       "      <td>14.187333</td>\n",
       "      <td>14.253333</td>\n",
       "      <td>14.000667</td>\n",
       "      <td>14.041333</td>\n",
       "      <td>14.041333</td>\n",
       "      <td>51637500</td>\n",
       "      <td>Apple</td>\n",
       "    </tr>\n",
       "    <tr>\n",
       "      <th>...</th>\n",
       "      <td>...</td>\n",
       "      <td>...</td>\n",
       "      <td>...</td>\n",
       "      <td>...</td>\n",
       "      <td>...</td>\n",
       "      <td>...</td>\n",
       "      <td>...</td>\n",
       "      <td>...</td>\n",
       "      <td>...</td>\n",
       "      <td>...</td>\n",
       "      <td>...</td>\n",
       "      <td>...</td>\n",
       "      <td>...</td>\n",
       "    </tr>\n",
       "    <tr>\n",
       "      <th>2019-12-24</th>\n",
       "      <td>71.172501</td>\n",
       "      <td>71.222504</td>\n",
       "      <td>70.730003</td>\n",
       "      <td>71.067497</td>\n",
       "      <td>69.236244</td>\n",
       "      <td>48478800</td>\n",
       "      <td>27.890667</td>\n",
       "      <td>28.364668</td>\n",
       "      <td>27.512667</td>\n",
       "      <td>28.350000</td>\n",
       "      <td>28.350000</td>\n",
       "      <td>120820500</td>\n",
       "      <td>Boeing</td>\n",
       "    </tr>\n",
       "    <tr>\n",
       "      <th>2019-12-26</th>\n",
       "      <td>71.205002</td>\n",
       "      <td>72.495003</td>\n",
       "      <td>71.175003</td>\n",
       "      <td>72.477501</td>\n",
       "      <td>70.609901</td>\n",
       "      <td>93121200</td>\n",
       "      <td>28.527332</td>\n",
       "      <td>28.898666</td>\n",
       "      <td>28.423332</td>\n",
       "      <td>28.729334</td>\n",
       "      <td>28.729334</td>\n",
       "      <td>159508500</td>\n",
       "      <td>Boeing</td>\n",
       "    </tr>\n",
       "    <tr>\n",
       "      <th>2019-12-27</th>\n",
       "      <td>72.779999</td>\n",
       "      <td>73.492500</td>\n",
       "      <td>72.029999</td>\n",
       "      <td>72.449997</td>\n",
       "      <td>70.583115</td>\n",
       "      <td>146266000</td>\n",
       "      <td>29.000000</td>\n",
       "      <td>29.020666</td>\n",
       "      <td>28.407333</td>\n",
       "      <td>28.691999</td>\n",
       "      <td>28.691999</td>\n",
       "      <td>149185500</td>\n",
       "      <td>Boeing</td>\n",
       "    </tr>\n",
       "    <tr>\n",
       "      <th>2019-12-30</th>\n",
       "      <td>72.364998</td>\n",
       "      <td>73.172501</td>\n",
       "      <td>71.305000</td>\n",
       "      <td>72.879997</td>\n",
       "      <td>71.002037</td>\n",
       "      <td>144114400</td>\n",
       "      <td>28.586000</td>\n",
       "      <td>28.600000</td>\n",
       "      <td>27.284000</td>\n",
       "      <td>27.646667</td>\n",
       "      <td>27.646667</td>\n",
       "      <td>188796000</td>\n",
       "      <td>Boeing</td>\n",
       "    </tr>\n",
       "    <tr>\n",
       "      <th>2019-12-31</th>\n",
       "      <td>72.482498</td>\n",
       "      <td>73.419998</td>\n",
       "      <td>72.379997</td>\n",
       "      <td>73.412498</td>\n",
       "      <td>71.520805</td>\n",
       "      <td>100805600</td>\n",
       "      <td>27.000000</td>\n",
       "      <td>28.086000</td>\n",
       "      <td>26.805332</td>\n",
       "      <td>27.888666</td>\n",
       "      <td>27.888666</td>\n",
       "      <td>154285500</td>\n",
       "      <td>Boeing</td>\n",
       "    </tr>\n",
       "  </tbody>\n",
       "</table>\n",
       "<p>1258 rows × 13 columns</p>\n",
       "</div>"
      ],
      "text/plain": [
       "            Open_AAPL  High_AAPL   Low_AAPL  Close_AAPL  Adj Close_AAPL  \\\n",
       "Date                                                                      \n",
       "2015-01-02  27.847500  27.860001  26.837500   27.332500       24.466448   \n",
       "2015-01-05  27.072500  27.162500  26.352501   26.562500       23.777191   \n",
       "2015-01-06  26.635000  26.857500  26.157499   26.565001       23.779427   \n",
       "2015-01-07  26.799999  27.049999  26.674999   26.937500       24.112869   \n",
       "2015-01-08  27.307501  28.037500  27.174999   27.972500       25.039337   \n",
       "...               ...        ...        ...         ...             ...   \n",
       "2019-12-24  71.172501  71.222504  70.730003   71.067497       69.236244   \n",
       "2019-12-26  71.205002  72.495003  71.175003   72.477501       70.609901   \n",
       "2019-12-27  72.779999  73.492500  72.029999   72.449997       70.583115   \n",
       "2019-12-30  72.364998  73.172501  71.305000   72.879997       71.002037   \n",
       "2019-12-31  72.482498  73.419998  72.379997   73.412498       71.520805   \n",
       "\n",
       "            Volume_AAPL    Open_BA    High_BA     Low_BA   Close_BA  \\\n",
       "Date                                                                  \n",
       "2015-01-02    212818400  14.858000  14.883333  14.217333  14.620667   \n",
       "2015-01-05    257142000  14.303333  14.433333  13.810667  14.006000   \n",
       "2015-01-06    263188400  14.004000  14.280000  13.614000  14.085333   \n",
       "2015-01-07    160423600  14.223333  14.318667  13.985333  14.063333   \n",
       "2015-01-08    237458000  14.187333  14.253333  14.000667  14.041333   \n",
       "...                 ...        ...        ...        ...        ...   \n",
       "2019-12-24     48478800  27.890667  28.364668  27.512667  28.350000   \n",
       "2019-12-26     93121200  28.527332  28.898666  28.423332  28.729334   \n",
       "2019-12-27    146266000  29.000000  29.020666  28.407333  28.691999   \n",
       "2019-12-30    144114400  28.586000  28.600000  27.284000  27.646667   \n",
       "2019-12-31    100805600  27.000000  28.086000  26.805332  27.888666   \n",
       "\n",
       "            Adj Close_BA  Volume_BA Company  \n",
       "Date                                         \n",
       "2015-01-02     14.620667   71466000   Apple  \n",
       "2015-01-05     14.006000   80527500   Apple  \n",
       "2015-01-06     14.085333   93928500   Apple  \n",
       "2015-01-07     14.063333   44526000   Apple  \n",
       "2015-01-08     14.041333   51637500   Apple  \n",
       "...                  ...        ...     ...  \n",
       "2019-12-24     28.350000  120820500  Boeing  \n",
       "2019-12-26     28.729334  159508500  Boeing  \n",
       "2019-12-27     28.691999  149185500  Boeing  \n",
       "2019-12-30     27.646667  188796000  Boeing  \n",
       "2019-12-31     27.888666  154285500  Boeing  \n",
       "\n",
       "[1258 rows x 13 columns]"
      ]
     },
     "execution_count": 8,
     "metadata": {},
     "output_type": "execute_result"
    }
   ],
   "source": [
    "merged_data\n"
   ]
  },
  {
   "cell_type": "code",
   "execution_count": null,
   "id": "8a557fa6",
   "metadata": {},
   "outputs": [],
   "source": []
  }
 ],
 "metadata": {
  "kernelspec": {
   "display_name": "Python 3 (ipykernel)",
   "language": "python",
   "name": "python3"
  },
  "language_info": {
   "codemirror_mode": {
    "name": "ipython",
    "version": 3
   },
   "file_extension": ".py",
   "mimetype": "text/x-python",
   "name": "python",
   "nbconvert_exporter": "python",
   "pygments_lexer": "ipython3",
   "version": "3.9.18"
  }
 },
 "nbformat": 4,
 "nbformat_minor": 5
}
